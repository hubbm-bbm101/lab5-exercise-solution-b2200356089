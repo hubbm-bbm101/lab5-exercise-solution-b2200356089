{
 "cells": [
  {
   "cell_type": "code",
   "execution_count": 1,
   "id": "baa2e109",
   "metadata": {},
   "outputs": [
    {
     "ename": "IndentationError",
     "evalue": "expected an indented block (<ipython-input-1-0148c09c0338>, line 13)",
     "output_type": "error",
     "traceback": [
      "\u001b[1;36m  File \u001b[1;32m\"<ipython-input-1-0148c09c0338>\"\u001b[1;36m, line \u001b[1;32m13\u001b[0m\n\u001b[1;33m    nume = nume + 1\u001b[0m\n\u001b[1;37m    ^\u001b[0m\n\u001b[1;31mIndentationError\u001b[0m\u001b[1;31m:\u001b[0m expected an indented block\n"
     ]
    }
   ],
   "source": [
    "n=int(input(\"Write an N\" ))\n",
    "sumo = 0 \n",
    "sume= 0\n",
    "nume= 0\n",
    "for a in range(1,n+1):\n",
    "    if a%2 == 1:\n",
    "        sumo=sumo + 1\n",
    "    else:\n",
    "        sume = sume + 1\n",
    "\n",
    "for i in range(1,n+1):\n",
    "    if i%2 == 0:\n",
    "    nume = nume + 1\n",
    "    else:\n",
    "        continue\n",
    "average=sume / nume\n",
    "    \n",
    "\n",
    "        "
   ]
  },
  {
   "cell_type": "code",
   "execution_count": null,
   "id": "e2959a1d",
   "metadata": {},
   "outputs": [],
   "source": []
  }
 ],
 "metadata": {
  "kernelspec": {
   "display_name": "Python 3",
   "language": "python",
   "name": "python3"
  },
  "language_info": {
   "codemirror_mode": {
    "name": "ipython",
    "version": 3
   },
   "file_extension": ".py",
   "mimetype": "text/x-python",
   "name": "python",
   "nbconvert_exporter": "python",
   "pygments_lexer": "ipython3",
   "version": "3.8.8"
  }
 },
 "nbformat": 4,
 "nbformat_minor": 5
}
